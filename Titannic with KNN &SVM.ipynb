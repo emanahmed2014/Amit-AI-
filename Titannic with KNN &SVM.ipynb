{
  "nbformat": 4,
  "nbformat_minor": 0,
  "metadata": {
    "colab": {
      "provenance": [],
      "collapsed_sections": [],
      "authorship_tag": "ABX9TyNrfDy5vVMKCmipMI9kDGfe",
      "include_colab_link": true
    },
    "kernelspec": {
      "name": "python3",
      "display_name": "Python 3"
    },
    "language_info": {
      "name": "python"
    }
  },
  "cells": [
    {
      "cell_type": "markdown",
      "metadata": {
        "id": "view-in-github",
        "colab_type": "text"
      },
      "source": [
        "<a href=\"https://colab.research.google.com/github/emanahmed2014/Amit-AI-/blob/main/Titannic%20with%20KNN%20%26SVM.ipynb\" target=\"_parent\"><img src=\"https://colab.research.google.com/assets/colab-badge.svg\" alt=\"Open In Colab\"/></a>"
      ]
    },
    {
      "cell_type": "markdown",
      "source": [
        "\n",
        "**Packages import:**\n",
        "Import nessarcy packages for dealing with: \n",
        "\n",
        "*   Arrays as np\n",
        "*   Fitching data and dealiong with data measures as pd\n",
        "*   Plot graphes as plt\n",
        "*   Plot more fancy graphs as sns\n",
        "*   Execute graphs inline\n",
        "\n",
        "\n"
      ],
      "metadata": {
        "id": "oFP-ZtiH_xGI"
      }
    },
    {
      "cell_type": "code",
      "source": [
        "import numpy as np\n",
        "import pandas as pd\n",
        "import matplotlib.pyplot as plt\n",
        "import seaborn as sns\n",
        "from scipy import stats\n",
        "%matplotlib inline"
      ],
      "metadata": {
        "id": "5e_a2BMOQtzg"
      },
      "execution_count": 2,
      "outputs": []
    },
    {
      "cell_type": "markdown",
      "source": [
        "#**Data preprocessing (Data Science Operations):**"
      ],
      "metadata": {
        "id": "o6e2WR4rxjzX"
      }
    },
    {
      "cell_type": "code",
      "source": [
        "df= pd.read_csv(\"titanic-Dataset.csv\")"
      ],
      "metadata": {
        "id": "rwyxhbBEu4ZW"
      },
      "execution_count": 3,
      "outputs": []
    }
  ]
}